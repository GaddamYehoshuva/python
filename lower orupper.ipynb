{
 "cells": [
  {
   "cell_type": "code",
   "execution_count": 8,
   "id": "d833396d",
   "metadata": {},
   "outputs": [
    {
     "name": "stdout",
     "output_type": "stream",
     "text": [
      "the Red box IS your TiffIn bor\n",
      "No. of upper case characters: 5\n",
      "No. of lower case characters: 19\n"
     ]
    }
   ],
   "source": [
    "def input_string(string):\n",
    "    lower=0\n",
    "    upper=0\n",
    "    for i in string:\n",
    "        if(i.islower()):\n",
    "            lower+=1\n",
    "        elif(i.isupper()):\n",
    "            upper+=1\n",
    "        else:\n",
    "            pass\n",
    "    print(\"No. of upper case characters:\",upper)\n",
    "    print(\"No. of lower case characters:\",lower)\n",
    "string=input()\n",
    "input_string(string)\n"
   ]
  },
  {
   "cell_type": "code",
   "execution_count": null,
   "id": "89cbde80",
   "metadata": {},
   "outputs": [],
   "source": []
  },
  {
   "cell_type": "code",
   "execution_count": null,
   "id": "ca452b84",
   "metadata": {},
   "outputs": [],
   "source": []
  }
 ],
 "metadata": {
  "kernelspec": {
   "display_name": "Python 3 (ipykernel)",
   "language": "python",
   "name": "python3"
  },
  "language_info": {
   "codemirror_mode": {
    "name": "ipython",
    "version": 3
   },
   "file_extension": ".py",
   "mimetype": "text/x-python",
   "name": "python",
   "nbconvert_exporter": "python",
   "pygments_lexer": "ipython3",
   "version": "3.10.9"
  }
 },
 "nbformat": 4,
 "nbformat_minor": 5
}
