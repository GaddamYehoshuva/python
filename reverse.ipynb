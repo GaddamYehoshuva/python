{
 "cells": [
  {
   "cell_type": "code",
   "execution_count": 5,
   "id": "49988b82",
   "metadata": {},
   "outputs": [
    {
     "name": "stdout",
     "output_type": "stream",
     "text": [
      "enter the string :priya\n",
      "ayirp\n"
     ]
    }
   ],
   "source": [
    "string=input(\"enter the string :\")\n",
    "reversed_string=\"\"\n",
    "for i in string:\n",
    "    reversed_string=i+reversed_string\n",
    "    \n",
    "print(reversed_string) "
   ]
  },
  {
   "cell_type": "code",
   "execution_count": null,
   "id": "600e8464",
   "metadata": {},
   "outputs": [],
   "source": []
  }
 ],
 "metadata": {
  "kernelspec": {
   "display_name": "Python 3 (ipykernel)",
   "language": "python",
   "name": "python3"
  },
  "language_info": {
   "codemirror_mode": {
    "name": "ipython",
    "version": 3
   },
   "file_extension": ".py",
   "mimetype": "text/x-python",
   "name": "python",
   "nbconvert_exporter": "python",
   "pygments_lexer": "ipython3",
   "version": "3.10.9"
  }
 },
 "nbformat": 4,
 "nbformat_minor": 5
}
