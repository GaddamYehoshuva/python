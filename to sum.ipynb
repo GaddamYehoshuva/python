{
 "cells": [
  {
   "cell_type": "code",
   "execution_count": 12,
   "id": "da982722",
   "metadata": {},
   "outputs": [
    {
     "name": "stdout",
     "output_type": "stream",
     "text": [
      "enter a input :  (98,67,56,34,65,)\n"
     ]
    },
    {
     "data": {
      "text/plain": [
       "320"
      ]
     },
     "execution_count": 12,
     "metadata": {},
     "output_type": "execute_result"
    }
   ],
   "source": [
    "def summation(input_list):\n",
    "    sum1=0\n",
    "    for num in input_list:\n",
    "        sum1=sum1+num\n",
    "        \n",
    "    return sum1\n",
    "sample=eval(input(\"enter a input : \"))\n",
    "summation(sample)"
   ]
  },
  {
   "cell_type": "code",
   "execution_count": null,
   "id": "fc89f731",
   "metadata": {},
   "outputs": [],
   "source": []
  },
  {
   "cell_type": "code",
   "execution_count": null,
   "id": "1f76cfa9",
   "metadata": {},
   "outputs": [],
   "source": []
  },
  {
   "cell_type": "code",
   "execution_count": null,
   "id": "ed92370e",
   "metadata": {},
   "outputs": [],
   "source": []
  }
 ],
 "metadata": {
  "kernelspec": {
   "display_name": "Python 3 (ipykernel)",
   "language": "python",
   "name": "python3"
  },
  "language_info": {
   "codemirror_mode": {
    "name": "ipython",
    "version": 3
   },
   "file_extension": ".py",
   "mimetype": "text/x-python",
   "name": "python",
   "nbconvert_exporter": "python",
   "pygments_lexer": "ipython3",
   "version": "3.10.9"
  }
 },
 "nbformat": 4,
 "nbformat_minor": 5
}
