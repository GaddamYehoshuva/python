{
 "cells": [
  {
   "cell_type": "code",
   "execution_count": 1,
   "id": "ca0fc6f7",
   "metadata": {},
   "outputs": [
    {
     "name": "stdout",
     "output_type": "stream",
     "text": [
      "Name: John Doe, DOB: 1990-01-15, Height: 175, City: New York, State: New York\n",
      "Name: Alice Smith, DOB: 1985-05-20, Height: 160, City: Los Angeles, State: California\n",
      "Name: Bob Johnson, DOB: 1992-09-03, Height: 182, City: Chicago, State: Illinois\n",
      "Name: Eva Brown, DOB: 1988-03-10, Height: 168, City: Houston, State: Texas\n",
      "Name: David Lee, DOB: 1995-07-25, Height: 178, City: San Francisco, State: California\n"
     ]
    }
   ],
   "source": [
    "import json\n",
    "\n",
    "class Employee:\n",
    "    def __init__(self, name, dob, height, city, state):\n",
    "        self.name = name\n",
    "        self.dob = dob\n",
    "        self.height = height\n",
    "        self.city = city\n",
    "        self.state = state\n",
    "\n",
    "    def __str__(self):\n",
    "        return f\"Name: {self.name}, DOB: {self.dob}, Height: {self.height}, City: {self.city}, State: {self.state}\"\n",
    "\n",
    "employee_data = [\n",
    "    {\n",
    "        \"Name\": \"John Doe\",\n",
    "        \"DOB\": \"1990-01-15\",\n",
    "        \"Height\": 175,\n",
    "        \"City\": \"New York\",\n",
    "        \"State\": \"New York\"\n",
    "    },\n",
    "    {\n",
    "        \"Name\": \"Alice Smith\",\n",
    "        \"DOB\": \"1985-05-20\",\n",
    "        \"Height\": 160,\n",
    "        \"City\": \"Los Angeles\",\n",
    "        \"State\": \"California\"\n",
    "    },\n",
    "    {\n",
    "        \"Name\": \"Bob Johnson\",\n",
    "        \"DOB\": \"1992-09-03\",\n",
    "        \"Height\": 182,\n",
    "        \"City\": \"Chicago\",\n",
    "        \"State\": \"Illinois\"\n",
    "    },\n",
    "    {\n",
    "        \"Name\": \"Eva Brown\",\n",
    "        \"DOB\": \"1988-03-10\",\n",
    "        \"Height\": 168,\n",
    "        \"City\": \"Houston\",\n",
    "        \"State\": \"Texas\"\n",
    "    },\n",
    "    {\n",
    "        \"Name\": \"David Lee\",\n",
    "        \"DOB\": \"1995-07-25\",\n",
    "        \"Height\": 178,\n",
    "        \"City\": \"San Francisco\",\n",
    "        \"State\": \"California\"\n",
    "    }\n",
    "]\n",
    "\n",
    "with open(\"employee.json\", \"w\") as file:\n",
    "    json.dump(employee_data, file)\n",
    "\n",
    "employee_objects = []\n",
    "with open(\"employee.json\", \"r\") as file:\n",
    "    data = json.load(file)\n",
    "    for item in data:\n",
    "        employee = Employee(item[\"Name\"], item[\"DOB\"], item[\"Height\"], item[\"City\"], item[\"State\"])\n",
    "        employee_objects.append(employee)\n",
    "\n",
    "for employee in employee_objects:\n",
    "    print(employee)"
   ]
  },
  {
   "cell_type": "code",
   "execution_count": 2,
   "id": "8785443c",
   "metadata": {},
   "outputs": [
    {
     "name": "stdout",
     "output_type": "stream",
     "text": [
      "Indian states and capitals have been written to indian_states_capitals.json\n"
     ]
    }
   ],
   "source": [
    "    \n",
    "#Create a dictionary of any 7 Indian states and their capitals and write it to a JSON file:\n",
    "indian_states_capitals = {\n",
    "    \"Andhra Pradesh\": \"Amaravati\",\n",
    "    \"Karnataka\": \"Bengaluru\",\n",
    "    \"Tamil Nadu\": \"Chennai\",\n",
    "    \"Maharashtra\": \"Mumbai\",\n",
    "    \"Uttar Pradesh\": \"Lucknow\",\n",
    "    \"Bihar\": \"Patna\",\n",
    "    \"Rajasthan\": \"Jaipur\"\n",
    "}\n",
    "\n",
    "with open(\"indian_states_capitals.json\", \"w\") as file:\n",
    "    json.dump(indian_states_capitals, file)\n",
    "\n",
    "print(\"Indian states and capitals have been written to indian_states_capitals.json\")"
   ]
  },
  {
   "cell_type": "code",
   "execution_count": null,
   "id": "574c33a6",
   "metadata": {},
   "outputs": [],
   "source": []
  }
 ],
 "metadata": {
  "kernelspec": {
   "display_name": "Python 3 (ipykernel)",
   "language": "python",
   "name": "python3"
  },
  "language_info": {
   "codemirror_mode": {
    "name": "ipython",
    "version": 3
   },
   "file_extension": ".py",
   "mimetype": "text/x-python",
   "name": "python",
   "nbconvert_exporter": "python",
   "pygments_lexer": "ipython3",
   "version": "3.10.9"
  }
 },
 "nbformat": 4,
 "nbformat_minor": 5
}
