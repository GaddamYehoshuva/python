{
 "cells": [
  {
   "cell_type": "code",
   "execution_count": 9,
   "id": "bf8dd916",
   "metadata": {},
   "outputs": [
    {
     "name": "stdout",
     "output_type": "stream",
     "text": [
      "number of odd numbers : 5\n",
      "number of even numbers : 5\n"
     ]
    }
   ],
   "source": [
    "num=(11,12,13,14,15,16,17,18,19,20)\n",
    "even_numbers=0\n",
    "odd_numbers=0\n",
    "for i in num:\n",
    "    if i%2==0:\n",
    "        even_numbers=1+even_numbers\n",
    "    else:\n",
    "        odd_numbers=1+odd_numbers \n",
    "        \n",
    "print(\"number of odd numbers :\",odd_numbers)\n",
    "print(\"number of even numbers :\",even_numbers)"
   ]
  },
  {
   "cell_type": "code",
   "execution_count": null,
   "id": "1841a537",
   "metadata": {},
   "outputs": [],
   "source": []
  }
 ],
 "metadata": {
  "kernelspec": {
   "display_name": "Python 3 (ipykernel)",
   "language": "python",
   "name": "python3"
  },
  "language_info": {
   "codemirror_mode": {
    "name": "ipython",
    "version": 3
   },
   "file_extension": ".py",
   "mimetype": "text/x-python",
   "name": "python",
   "nbconvert_exporter": "python",
   "pygments_lexer": "ipython3",
   "version": "3.10.9"
  }
 },
 "nbformat": 4,
 "nbformat_minor": 5
}
