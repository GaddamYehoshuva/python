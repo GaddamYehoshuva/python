{
 "cells": [
  {
   "cell_type": "code",
   "execution_count": 1,
   "id": "37a22fda",
   "metadata": {},
   "outputs": [
    {
     "name": "stdout",
     "output_type": "stream",
     "text": [
      "Rex is 5 years old.\n",
      "Rex's coat color is Brown.\n",
      "Buddy is a Jack Russell Terrier and is 3 years old.\n",
      "Buddy's coat color is White and Brown.\n",
      "Buddy is barking loudly!\n",
      "Buddy is performing a trick: Jumping through hoops\n",
      "Max is a Bulldog and is 4 years old.\n",
      "Max's coat color is Brindle.\n",
      "Max is snoring loudly!\n",
      "Max has a strength rating of High.\n"
     ]
    }
   ],
   "source": [
    "class Dog:\n",
    "    def __init__(self, name, age, coat_color):\n",
    "        self.name = name\n",
    "        self.age = age\n",
    "        self.coat_color = coat_color\n",
    "\n",
    "    def description(self):\n",
    "        print(f\"{self.name} is {self.age} years old.\")\n",
    "\n",
    "    def get_info(self):\n",
    "        print(f\"{self.name}'s coat color is {self.coat_color}.\")\n",
    "\n",
    "\n",
    "class JackRussellTerrier(Dog):\n",
    "    def __init__(self, name, age, coat_color, special_ability):\n",
    "        super().__init__(name, age, coat_color)\n",
    "        self.special_ability = special_ability\n",
    "\n",
    "    def description(self):\n",
    "        print(f\"{self.name} is a Jack Russell Terrier and is {self.age} years old.\")\n",
    "\n",
    "    def bark(self):\n",
    "        print(f\"{self.name} is barking loudly!\")\n",
    "\n",
    "    def perform_trick(self):\n",
    "        print(f\"{self.name} is performing a trick: {self.special_ability}\")\n",
    "\n",
    "\n",
    "class Bulldog(Dog):\n",
    "    def __init__(self, name, age, coat_color, strength):\n",
    "        super().__init__(name, age, coat_color)\n",
    "        self.strength = strength\n",
    "\n",
    "    def description(self):\n",
    "        print(f\"{self.name} is a Bulldog and is {self.age} years old.\")\n",
    "\n",
    "    def snore(self):\n",
    "        print(f\"{self.name} is snoring loudly!\")\n",
    "\n",
    "    def show_strength(self):\n",
    "        print(f\"{self.name} has a strength rating of {self.strength}.\")\n",
    "\n",
    "\n",
    "# Create Dog objects\n",
    "dog1 = Dog(\"Rex\", 5, \"Brown\")\n",
    "dog2 = JackRussellTerrier(\"Buddy\", 3, \"White and Brown\", \"Jumping through hoops\")\n",
    "dog3 = Bulldog(\"Max\", 4, \"Brindle\", \"High\")\n",
    "\n",
    "# Calling methods on Dog objects\n",
    "dog1.description()\n",
    "dog1.get_info()\n",
    "\n",
    "# Calling methods on JackRussellTerrier objects\n",
    "dog2.description()\n",
    "dog2.get_info()\n",
    "dog2.bark()\n",
    "dog2.perform_trick()\n",
    "\n",
    "# Calling methods on Bulldog objects\n",
    "dog3.description()\n",
    "dog3.get_info()\n",
    "dog3.snore()\n",
    "dog3.show_strength()"
   ]
  },
  {
   "cell_type": "code",
   "execution_count": null,
   "id": "094c2fef",
   "metadata": {},
   "outputs": [],
   "source": []
  }
 ],
 "metadata": {
  "kernelspec": {
   "display_name": "Python 3 (ipykernel)",
   "language": "python",
   "name": "python3"
  },
  "language_info": {
   "codemirror_mode": {
    "name": "ipython",
    "version": 3
   },
   "file_extension": ".py",
   "mimetype": "text/x-python",
   "name": "python",
   "nbconvert_exporter": "python",
   "pygments_lexer": "ipython3",
   "version": "3.10.9"
  }
 },
 "nbformat": 4,
 "nbformat_minor": 5
}
